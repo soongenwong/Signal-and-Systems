{
 "cells": [
  {
   "cell_type": "code",
   "execution_count": 16,
   "metadata": {},
   "outputs": [
    {
     "ename": "ModuleNotFoundError",
     "evalue": "No module named 'scipy'",
     "output_type": "error",
     "traceback": [
      "\u001b[0;31m---------------------------------------------------------------------------\u001b[0m",
      "\u001b[0;31mModuleNotFoundError\u001b[0m                       Traceback (most recent call last)",
      "Cell \u001b[0;32mIn[16], line 4\u001b[0m\n\u001b[1;32m      2\u001b[0m \u001b[38;5;28;01mimport\u001b[39;00m \u001b[38;5;21;01mnumpy\u001b[39;00m \u001b[38;5;28;01mas\u001b[39;00m \u001b[38;5;21;01mnp\u001b[39;00m\n\u001b[1;32m      3\u001b[0m \u001b[38;5;28;01mimport\u001b[39;00m \u001b[38;5;21;01mmatplotlib\u001b[39;00m\u001b[38;5;21;01m.\u001b[39;00m\u001b[38;5;21;01mpyplot\u001b[39;00m \u001b[38;5;28;01mas\u001b[39;00m \u001b[38;5;21;01mplt\u001b[39;00m\n\u001b[0;32m----> 4\u001b[0m \u001b[38;5;28;01mfrom\u001b[39;00m \u001b[38;5;21;01mfunctions\u001b[39;00m\u001b[38;5;21;01m.\u001b[39;00m\u001b[38;5;21;01mlab_functions\u001b[39;00m \u001b[38;5;28;01mimport\u001b[39;00m plot_signal\n\u001b[1;32m      6\u001b[0m \u001b[38;5;66;03m# define  constants\u001b[39;00m\n\u001b[1;32m      7\u001b[0m fsig \u001b[38;5;241m=\u001b[39m \u001b[38;5;241m1000\u001b[39m\n",
      "File \u001b[0;32m~/Signal and Systems/Signal-and-Systems/Lab Excercises/Lab 1 Introduction/functions/lab_functions.py:1\u001b[0m\n\u001b[0;32m----> 1\u001b[0m \u001b[38;5;28;01mimport\u001b[39;00m \u001b[38;5;21;01mscipy\u001b[39;00m\u001b[38;5;21;01m.\u001b[39;00m\u001b[38;5;21;01mio\u001b[39;00m\n\u001b[1;32m      2\u001b[0m \u001b[38;5;28;01mimport\u001b[39;00m \u001b[38;5;21;01mnumpy\u001b[39;00m \u001b[38;5;28;01mas\u001b[39;00m \u001b[38;5;21;01mnp\u001b[39;00m\n\u001b[1;32m      3\u001b[0m \u001b[38;5;28;01mimport\u001b[39;00m \u001b[38;5;21;01mfunctools\u001b[39;00m\n",
      "\u001b[0;31mModuleNotFoundError\u001b[0m: No module named 'scipy'"
     ]
    }
   ],
   "source": [
    "# import libraries\n",
    "import sys\n",
    "import os\n",
    "sys.path.append(os.path.abspath(''))\n",
    "import numpy as np\n",
    "import matplotlib.pyplot as plt\n",
    "from functions.lab_functions import plot_signal\n",
    "\n",
    "# define  constants\n",
    "fsig = 1000\n",
    "Nsamp = 128\n",
    "t = np.linspace(0,0.005,Nsamp,endpoint=False)\n",
    "\n",
    "print('Dimension(s) of t:')\n",
    "print(np.shape(t))\n",
    "print('\\n') # \\n creates a newline\n",
    "print('t:')\n",
    "print(np.round(t,3))\n",
    "\n",
    "x = np.sin(2*np.pi*fsig*t);\n",
    "\n",
    "plt = plot_signal(t, x, title='Simple Sine Wave', xlabel='Time [s]', ylabel='Amplitude')\n",
    "plt.show()\n",
    "\n",
    "x = np.sin(2*np.pi*fsig*t);\n",
    "\n",
    "plt = plot_signal(t, x, title='Simple Sine Wave', xlabel='Time [s]', ylabel='Amplitude')\n",
    "plt.savefig('results/ex1/ex1_simple_sine_save.pdf')\n",
    "plt.show()\n",
    "\n",
    "x = np.sin(2*np.pi*fsig*t);\n",
    "\n",
    "plt = plot_signal(t, x, marker='x', color='red', title='Simple Sine Wave', xlabel='Time [s]', ylabel='Amplitude')\n",
    "plt.show()"
   ]
  }
 ],
 "metadata": {
  "kernelspec": {
   "display_name": "miniconda3",
   "language": "python",
   "name": "miniconda3"
  },
  "language_info": {
   "codemirror_mode": {
    "name": "ipython",
    "version": 3
   },
   "file_extension": ".py",
   "mimetype": "text/x-python",
   "name": "python",
   "nbconvert_exporter": "python",
   "pygments_lexer": "ipython3",
   "version": "3.12.4"
  }
 },
 "nbformat": 4,
 "nbformat_minor": 2
}
